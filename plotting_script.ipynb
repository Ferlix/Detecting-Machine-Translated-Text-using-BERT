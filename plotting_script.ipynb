{
 "cells": [
  {
   "cell_type": "code",
   "execution_count": 147,
   "metadata": {},
   "outputs": [],
   "source": [
    "import io\n",
    "import unicodedata\n",
    "import re\n",
    "import os\n",
    "from nltk import word_tokenize\n",
    "import random\n",
    "from matplotlib.pyplot import figure\n",
    "from nltk.tokenize import RegexpTokenizer\n",
    "import matplotlib.pyplot as plt\n",
    "import numpy as np\n",
    "import glob\n"
   ]
  },
  {
   "cell_type": "markdown",
   "metadata": {},
   "source": [
    "# Define loading function"
   ]
  },
  {
   "cell_type": "code",
   "execution_count": 2,
   "metadata": {},
   "outputs": [],
   "source": [
    "def loaddata(filename):\n",
    "    #file = io.open(filename,'r')\n",
    "    \n",
    "    print(\"Scannig...\")\n",
    "    f = open(filename, \"r\")\n",
    "    return f.readlines()\n"
   ]
  },
  {
   "cell_type": "markdown",
   "metadata": {},
   "source": [
    "# Load Italian dataset (long sentences)"
   ]
  },
  {
   "cell_type": "code",
   "execution_count": 149,
   "metadata": {
    "scrolled": true
   },
   "outputs": [
    {
     "name": "stdout",
     "output_type": "stream",
     "text": [
      "Italian stats -- long sentences\n",
      "\n",
      "Loading human corpus...\n",
      "Scannig...\n",
      "Done extracting lines! :)\n",
      "\n",
      "Loading human corpus...\n",
      "Scannig...\n",
      "Done extracting lines! :)\n",
      "\n",
      "Loading source corpus...\n",
      "Scannig...\n",
      "Done extracting lines! :)\n",
      "\n",
      "Sentences made by human: 1941945\n",
      "Sentences made by google: 1941945\n",
      "Sentences source: 1941945\n"
     ]
    }
   ],
   "source": [
    "filename_human = './italian/italian long/english_original_data.txt'\n",
    "filename_trans= './italian/italian long/english_translated_data.txt'\n",
    "filename_source = './italian/sourceITA.txt'\n",
    "\n",
    "print('Italian stats -- long sentences')\n",
    "print('')\n",
    "print(\"Loading human corpus...\")\n",
    "human = loaddata(filename_human)\n",
    "print(\"Done extracting lines! :)\")\n",
    "print('')\n",
    "\n",
    "print(\"Loading human corpus...\")\n",
    "machine = loaddata(filename_trans)\n",
    "print(\"Done extracting lines! :)\")\n",
    "print('')\n",
    "\n",
    "print(\"Loading source corpus...\")\n",
    "sourc = loaddata(filename_source)\n",
    "print(\"Done extracting lines! :)\")\n",
    "print('')\n",
    "\n",
    "\n",
    "total_sentences_human = len(human)\n",
    "total_sentences_machine = len(machine)\n",
    "total_sentences_source = len(sourc)\n",
    "\n",
    "print(\"Sentences made by human: \" +str(total_sentences_human))\n",
    "print(\"Sentences made by google: \" +str(total_sentences_machine))\n",
    "print(\"Sentences source: \" +str(total_sentences_source))\n",
    "\n",
    "\n",
    "\n",
    "\n"
   ]
  },
  {
   "cell_type": "markdown",
   "metadata": {},
   "source": [
    "# Compute frequencies"
   ]
  },
  {
   "cell_type": "code",
   "execution_count": 102,
   "metadata": {},
   "outputs": [
    {
     "name": "stdout",
     "output_type": "stream",
     "text": [
      "Total human tokens: 24651702\n",
      "Total machine tokens: 23571343\n",
      "Total source: 22608307\n"
     ]
    }
   ],
   "source": [
    "tokenizer = RegexpTokenizer(r'\\w+')\n",
    "total_tokens = 0\n",
    "ita_hist_human_short = [-1] * total_sentences_human\n",
    "\n",
    "for i in range(total_sentences_human):\n",
    "    length_sentence = 0\n",
    "    sentence = human[i]\n",
    "    \n",
    "   # print(str(sentence)[:-2])\n",
    "    tokens = tokenizer.tokenize(sentence[:-2])\n",
    "    if(len(tokens) > 6):\n",
    "        total_tokens = total_tokens + len(tokens)\n",
    "        ita_hist_human_short[i] = len(tokens)\n",
    "    \n",
    "\n",
    "print('Total human tokens: ' + str(total_tokens))\n",
    "\n",
    "total_tokens = 0\n",
    "ita_hist_machine_short = [-1] * total_sentences_human\n",
    "\n",
    "for i in range(total_sentences_machine):\n",
    "    length_sentence = 0\n",
    "    sentence = machine[i]\n",
    "    \n",
    "   # print(str(sentence)[:-2])\n",
    "    tokens = tokenizer.tokenize(sentence[:-2])\n",
    "    if(len(tokens) > 6):\n",
    "        total_tokens = total_tokens + len(tokens)\n",
    "        ita_hist_machine_short[i] = len(tokens)\n",
    "\n",
    "    \n",
    "\n",
    "print('Total machine tokens: ' + str(total_tokens))\n",
    "\n",
    "\n",
    "total_tokens = 0\n",
    "ita_hist_source_short = [-1] * total_sentences_source\n",
    "\n",
    "for i in range(total_sentences_source):\n",
    "    length_sentence = 0\n",
    "    sentence = sourc[i]\n",
    "    \n",
    "   # print(str(sentence)[:-2])\n",
    "    tokens = tokenizer.tokenize(sentence)\n",
    "    if(len(tokens) > 6):\n",
    "        total_tokens = total_tokens + len(tokens)\n",
    "        ita_hist_source_short[i] = len(tokens)\n",
    "\n",
    "    \n",
    "\n",
    "print('Total source: ' + str(total_tokens))\n",
    "\n",
    "\n",
    "\n",
    "\n"
   ]
  },
  {
   "cell_type": "markdown",
   "metadata": {},
   "source": [
    "# Load Italian dataset (all sentences)"
   ]
  },
  {
   "cell_type": "code",
   "execution_count": 109,
   "metadata": {},
   "outputs": [],
   "source": [
    "import glob\n",
    "filename_source= './italian/source_all/*'\n",
    "folders = glob.glob(filename_source)\n",
    "\n",
    "with open( 'sourceITA_all.txt', 'w' ) as result:\n",
    "    for file_ in folders:\n",
    "        for line in open( file_, 'r' ):\n",
    "            result.write( line )"
   ]
  },
  {
   "cell_type": "code",
   "execution_count": 151,
   "metadata": {},
   "outputs": [
    {
     "name": "stdout",
     "output_type": "stream",
     "text": [
      "Italian stats -- all sentences\n",
      "\n",
      "Loading human corpus...\n",
      "Scannig...\n",
      "Done extracting lines! :)\n",
      "\n",
      "Loading machine corpus...\n",
      "Scannig...\n",
      "Done extracting lines! :)\n",
      "\n",
      "Loading source corpus...\n",
      "Scannig...\n",
      "Done extracting lines! :)\n",
      "\n",
      "Sentences made by human: 2000000\n",
      "Sentences made by google: 2000000\n",
      "Sentences source: 2000000\n"
     ]
    }
   ],
   "source": [
    "filename_human = './italian/italian all sentences/english_original_data.txt'\n",
    "filename_trans= './italian/italian all sentences/english_translated_data.txt'\n",
    "filename_source = './italian/sourceITA_all.txt'\n",
    "\n",
    "print('Italian stats -- all sentences')\n",
    "print('')\n",
    "print(\"Loading human corpus...\")\n",
    "human = loaddata(filename_human)\n",
    "print(\"Done extracting lines! :)\")\n",
    "print('')\n",
    "\n",
    "print(\"Loading machine corpus...\")\n",
    "machine = loaddata(filename_trans)\n",
    "print(\"Done extracting lines! :)\")\n",
    "print('')\n",
    "\n",
    "\n",
    "print(\"Loading source corpus...\")\n",
    "sourc = loaddata(filename_source)\n",
    "print(\"Done extracting lines! :)\")\n",
    "print('')\n",
    "\n",
    "\n",
    "\n",
    "total_sentences_human = len(human)\n",
    "total_sentences_machine = len(machine)\n",
    "total_sentences_source = len(sourc)\n",
    "\n",
    "print(\"Sentences made by human: \" +str(total_sentences_human))\n",
    "print(\"Sentences made by google: \" +str(total_sentences_machine))\n",
    "print(\"Sentences source: \" +str(total_sentences_source))\n",
    "\n",
    "\n",
    "\n",
    "\n"
   ]
  },
  {
   "cell_type": "markdown",
   "metadata": {},
   "source": [
    "# Compute frequencies"
   ]
  },
  {
   "cell_type": "code",
   "execution_count": 154,
   "metadata": {},
   "outputs": [
    {
     "name": "stdout",
     "output_type": "stream",
     "text": [
      "Total human tokens: 28940354\n",
      "Total machine tokens: 24892468\n",
      "Total machine tokens: 25448132\n"
     ]
    }
   ],
   "source": [
    "from nltk.tokenize import RegexpTokenizer\n",
    "import matplotlib.pyplot as plt\n",
    "import numpy as np\n",
    "\n",
    "tokenizer = RegexpTokenizer(r'\\w+')\n",
    "total_tokens = 0\n",
    "ita_hist_human_long = [None] * total_sentences_human\n",
    "\n",
    "for i in range(total_sentences_human):\n",
    "    length_sentence = 0\n",
    "    sentence = human[i]\n",
    "    tokens = tokenizer.tokenize(sentence[:-2])\n",
    "    total_tokens = total_tokens + len(tokens)\n",
    "    ita_hist_human_long[i] = len(tokens)\n",
    "\n",
    "print('Total human tokens: ' + str(total_tokens))\n",
    "\n",
    "\n",
    "total_tokens = 0\n",
    "ita_hist_machine_long = [None] * total_sentences_human\n",
    "\n",
    "for i in range(total_sentences_machine):\n",
    "    length_sentence = 0\n",
    "    sentence = machine[i]\n",
    "    \n",
    "   # print(str(sentence)[:-2])\n",
    "    tokens = tokenizer.tokenize(sentence[:-2])\n",
    "    total_tokens = total_tokens + len(tokens)\n",
    "    ita_hist_machine_long[i] = len(tokens)\n",
    "    \n",
    "print('Total machine tokens: ' + str(total_tokens))\n",
    "\n",
    "\n",
    "total_tokens = 0\n",
    "ita_hist_source_long = [None] * total_sentences_human\n",
    "\n",
    "for i in range(total_sentences_machine):\n",
    "    length_sentence = 0\n",
    "    sentence = sourc[i]\n",
    "    \n",
    "   # print(str(sentence)[:-2])\n",
    "    tokens = tokenizer.tokenize(sentence[:-2])\n",
    "    total_tokens = total_tokens + len(tokens)\n",
    "    ita_hist_source_long[i] = len(tokens)\n",
    "    \n",
    "\n",
    "print('Total machine tokens: ' + str(total_tokens))\n",
    "\n",
    "\n"
   ]
  },
  {
   "cell_type": "markdown",
   "metadata": {},
   "source": [
    "# Plot datasets"
   ]
  },
  {
   "cell_type": "code",
   "execution_count": 144,
   "metadata": {
    "scrolled": true
   },
   "outputs": [
    {
     "data": {
      "text/plain": [
       "Text(0, 0.5, 'Frequency')"
      ]
     },
     "execution_count": 144,
     "metadata": {},
     "output_type": "execute_result"
    },
    {
     "data": {
      "image/png": "[encoded data removed]",
      "text/plain": [
       "<Figure size 1440x480 with 2 Axes>"
      ]
     },
     "metadata": {
      "needs_background": "light"
     },
     "output_type": "display_data"
    }
   ],
   "source": [
    "fig, axs = plt.subplots(1,2, figsize=(18, 6), dpi=80,)\n",
    "axs[0].set_ylim([0, 300000])\n",
    "axs[1].set_ylim([0, 300000])\n",
    "bins = np.linspace(0, 35, 35)\n",
    "\n",
    "axs[1].hist([ita_hist_human_short, ita_hist_machine_short, ita_hist_source_short],bins, label=['Human', 'Machine', 'Source data'], color=['red', 'limegreen', 'black'])\n",
    "axs[0].hist([ita_hist_human_long, ita_hist_machine_long, ita_hist_source_long],bins, label=['Human', 'Machine', 'Source data'], color=['red', 'limegreen', 'black']) \n",
    "axs[0].set_title('Whole dataset')\n",
    "axs[1].set_title('Sentences with minimum 6 words')\n",
    "axs[0].legend(loc='upper right')\n",
    "axs[1].legend(loc='upper right')\n",
    "\n",
    "axs[0].set_xlabel('Sentence length', fontsize='medium')\n",
    "axs[1].set_xlabel('Sentence length', fontsize='medium')\n",
    "axs[0].set_ylabel('Frequency', fontsize='medium')"
   ]
  },
  {
   "cell_type": "markdown",
   "metadata": {},
   "source": [
    "# Load Dutch dataset (long sentences)"
   ]
  },
  {
   "cell_type": "code",
   "execution_count": 153,
   "metadata": {},
   "outputs": [
    {
     "name": "stdout",
     "output_type": "stream",
     "text": [
      "Dutch stats -- long sentences\n",
      "\n",
      "Loading human corpus...\n",
      "Scannig...\n",
      "Done extracting lines! :)\n",
      "\n",
      "Loading machine corpus...\n",
      "Scannig...\n",
      "Done extracting lines! :)\n",
      "\n",
      "Loading source corpus...\n",
      "Scannig...\n",
      "Done extracting lines! :)\n",
      "\n",
      "Sentences made by human: 2285431\n",
      "Sentences made by google: 2285431\n",
      "Sentences source: 2285432\n"
     ]
    }
   ],
   "source": [
    "filename_human = './dutch/long/english_original_data.txt'\n",
    "filename_trans= './dutch/long/english_translated_data.txt'\n",
    "filename_source = './dutch/sourceNL_long.txt'\n",
    "\n",
    "print('Dutch stats -- long sentences')\n",
    "print('')\n",
    "print(\"Loading human corpus...\")\n",
    "human = loaddata(filename_human)\n",
    "print(\"Done extracting lines! :)\")\n",
    "print('')\n",
    "\n",
    "print(\"Loading machine corpus...\")\n",
    "machine = loaddata(filename_trans)\n",
    "print(\"Done extracting lines! :)\")\n",
    "print('')\n",
    "\n",
    "\n",
    "print(\"Loading source corpus...\")\n",
    "sourc = loaddata(filename_source)\n",
    "print(\"Done extracting lines! :)\")\n",
    "print('')\n",
    "\n",
    "total_sentences_human = len(human)\n",
    "total_sentences_machine = len(machine)\n",
    "total_sentences_source = len(sourc)\n",
    "\n",
    "print(\"Sentences made by human: \" +str(total_sentences_human))\n",
    "print(\"Sentences made by google: \" +str(total_sentences_machine))\n",
    "print(\"Sentences source: \" +str(total_sentences_source))\n"
   ]
  },
  {
   "cell_type": "markdown",
   "metadata": {},
   "source": [
    "# Compute frequencies"
   ]
  },
  {
   "cell_type": "code",
   "execution_count": 120,
   "metadata": {},
   "outputs": [
    {
     "name": "stdout",
     "output_type": "stream",
     "text": [
      "Total human tokens: 28924685\n",
      "Total machine tokens: 24170771\n",
      "Total source: 25413031\n"
     ]
    }
   ],
   "source": [
    "from nltk.tokenize import RegexpTokenizer\n",
    "import matplotlib.pyplot as plt\n",
    "import numpy as np\n",
    "\n",
    "tokenizer = RegexpTokenizer(r'\\w+')\n",
    "total_tokens = 0\n",
    "dutch_hist_human_long = [-1] * total_sentences_human\n",
    "\n",
    "for i in range(total_sentences_human):\n",
    "    length_sentence = 0\n",
    "    sentence = human[i]\n",
    "    \n",
    "   # print(str(sentence)[:-2])\n",
    "    tokens = tokenizer.tokenize(sentence[:-2])\n",
    "    if(len(tokens) > 6):\n",
    "        total_tokens = total_tokens + len(tokens)\n",
    "        dutch_hist_human_long[i] = len(tokens)\n",
    "    \n",
    "\n",
    "print('Total human tokens: ' + str(total_tokens))\n",
    "\n",
    "total_tokens = 0\n",
    "dtuch_hist_machine_long = [-1] * total_sentences_human\n",
    "\n",
    "for i in range(total_sentences_machine):\n",
    "    length_sentence = 0\n",
    "    sentence = machine[i]\n",
    "    \n",
    "   # print(str(sentence)[:-2])\n",
    "    tokens = tokenizer.tokenize(sentence[:-2])\n",
    "    if(len(tokens) > 6):\n",
    "        total_tokens = total_tokens + len(tokens)\n",
    "        dtuch_hist_machine_long[i] = len(tokens)\n",
    "\n",
    "    \n",
    "\n",
    "print('Total machine tokens: ' + str(total_tokens))\n",
    "\n",
    "\n",
    "total_tokens = 0\n",
    "dtuch_hist_machine_source = [-1] * total_sentences_source\n",
    "\n",
    "for i in range(total_sentences_source):\n",
    "    length_sentence = 0\n",
    "    sentence = sourc[i]\n",
    "    \n",
    "   # print(str(sentence)[:-2])\n",
    "    tokens = tokenizer.tokenize(sentence)\n",
    "    if(len(tokens) > 6):\n",
    "        total_tokens = total_tokens + len(tokens)\n",
    "        dtuch_hist_machine_source[i] = len(tokens)\n",
    "\n",
    "    \n",
    "\n",
    "print('Total source: ' + str(total_tokens))\n",
    "\n"
   ]
  },
  {
   "cell_type": "markdown",
   "metadata": {},
   "source": [
    "# Load Dutch dataset (all sentences)"
   ]
  },
  {
   "cell_type": "code",
   "execution_count": 152,
   "metadata": {},
   "outputs": [
    {
     "name": "stdout",
     "output_type": "stream",
     "text": [
      "Dutch stats -- all sentences\n",
      "\n",
      "Loading all corpus...\n",
      "Scannig...\n",
      "Done extracting lines! :)\n",
      "\n",
      "Loading source corpus...\n",
      "Scannig...\n",
      "Done extracting lines! :)\n",
      "\n",
      "Sentences in dataset: 1869645\n",
      "Sentences source: 1869645\n"
     ]
    }
   ],
   "source": [
    "filename_human = './dutch/all sentences/dataset.txt'\n",
    "filename_source = './dutch/sourceNL.txt'\n",
    "\n",
    "print('Dutch stats -- all sentences')\n",
    "print('')\n",
    "print(\"Loading all corpus...\")\n",
    "human = loaddata(filename_human)\n",
    "print(\"Done extracting lines! :)\")\n",
    "print('')\n",
    "\n",
    "print(\"Loading source corpus...\")\n",
    "sourc = loaddata(filename_source)\n",
    "print(\"Done extracting lines! :)\")\n",
    "print('')\n",
    "\n",
    "\n",
    "total_sentences_source = len(sourc)\n",
    "total_sentences_human = len(human)\n",
    "\n",
    "print(\"Sentences in dataset: \" +str(int((total_sentences_human)/2)))\n",
    "print(\"Sentences source: \" +str(total_sentences_source))\n",
    "\n",
    "\n",
    "\n",
    "\n"
   ]
  },
  {
   "cell_type": "markdown",
   "metadata": {},
   "source": [
    "# Compute frequencies"
   ]
  },
  {
   "cell_type": "code",
   "execution_count": 124,
   "metadata": {},
   "outputs": [
    {
     "name": "stdout",
     "output_type": "stream",
     "text": [
      "Sentences in dataset: 3739290\n",
      "Total human tokens: 13144139\n",
      "Total machine tokens: 10992191\n",
      "Total source tokens: 10972421\n"
     ]
    }
   ],
   "source": [
    "from nltk.tokenize import RegexpTokenizer\n",
    "import matplotlib.pyplot as plt\n",
    "import numpy as np\n",
    "\n",
    "tokenizer = RegexpTokenizer(r'\\w+')\n",
    "total_tokens_human = 0\n",
    "total_tokens_machine = 0\n",
    "dutch_hist_human_all = [None] * int(total_sentences_human/2)\n",
    "dutch_hist_machine_all = [None] * int(total_sentences_human/2)\n",
    "\n",
    "h_counter = 0\n",
    "m_counter = 0\n",
    "s_tokens = 0\n",
    "\n",
    "for i in range(total_sentences_human):\n",
    "    length_sentence_human = 0\n",
    "    length_sentence_machine = 0\n",
    "    sentence = human[i]\n",
    "    \n",
    "   # print(str(sentence)[:-2])\n",
    "    tokens = tokenizer.tokenize(sentence[:-2])\n",
    "    typeSentence = int(sentence[-2:-1])\n",
    "    \n",
    "    if typeSentence == 0:\n",
    "        total_tokens_human = total_tokens_human + len(tokens)\n",
    "        dutch_hist_human_all[h_counter] = len(tokens)\n",
    "        h_counter = h_counter + 1\n",
    "    else:\n",
    "        total_tokens_machine = total_tokens_machine + len(tokens)\n",
    "        dutch_hist_machine_all[m_counter] = len(tokens)\n",
    "        m_counter = m_counter + 1        \n",
    "        \n",
    "dtuch_hist_machine_source_all = [-1] * total_sentences_source\n",
    "\n",
    "for i in range(total_sentences_source):\n",
    "    length_sentence = 0\n",
    "    sentence = sourc[i]\n",
    "    \n",
    "   # print(str(sentence)[:-2])\n",
    "    tokens = tokenizer.tokenize(sentence)\n",
    "    s_tokens = s_tokens + len(tokens)\n",
    "    dtuch_hist_machine_source_all[i] = len(tokens)\n",
    "\n",
    "    \n",
    "\n",
    "\n",
    "print(\"Sentences in dataset: \" +str(total_sentences_human))\n",
    "\n",
    "print('Total human tokens: ' + str(total_tokens_human))\n",
    "print('Total machine tokens: ' + str(total_tokens_machine))\n",
    "print('Total source tokens: ' + str(s_tokens))\n",
    "\n",
    "\n",
    "\n"
   ]
  },
  {
   "cell_type": "markdown",
   "metadata": {},
   "source": [
    "# Plot datasets"
   ]
  },
  {
   "cell_type": "code",
   "execution_count": 146,
   "metadata": {
    "scrolled": true
   },
   "outputs": [
    {
     "data": {
      "text/plain": [
       "Text(0, 0.5, 'Frequency')"
      ]
     },
     "execution_count": 146,
     "metadata": {},
     "output_type": "execute_result"
    },
    {
     "data": {
      "image/png": "[encoded data removed]",
      "text/plain": [
       "<Figure size 1440x480 with 2 Axes>"
      ]
     },
     "metadata": {
      "needs_background": "light"
     },
     "output_type": "display_data"
    }
   ],
   "source": [
    "fig, axs = plt.subplots(1,2, figsize=(18, 6), dpi=80,)\n",
    "axs[0].set_ylim([0, 380000])\n",
    "axs[1].set_ylim([0, 380000])\n",
    "\n",
    "axs[0].hist([dutch_hist_human_all, dutch_hist_machine_all, dtuch_hist_machine_source_all],bins, label=['Human', 'Machine', 'Source data'], color=['blue','orange', 'black']) \n",
    "axs[1].hist([dutch_hist_human_long, dtuch_hist_machine_long, dtuch_hist_machine_source],bins, label=['Human', 'Machine', 'Source data'], color=['blue','orange', 'black'])\n",
    "axs[0].set_title('Whole dataset')\n",
    "axs[1].set_title('Sentences with minimum 6 words')\n",
    "axs[0].legend(loc='upper right')\n",
    "axs[1].legend(loc='upper right')\n",
    "\n",
    "\n",
    "axs[0].set_xlabel('Sentence length', fontsize='medium')\n",
    "axs[1].set_xlabel('Sentence length', fontsize='medium')\n",
    "axs[0].set_ylabel('Frequency', fontsize='medium')"
   ]
  },
  {
   "cell_type": "code",
   "execution_count": null,
   "metadata": {},
   "outputs": [],
   "source": []
  }
 ],
 "metadata": {
  "kernelspec": {
   "display_name": "Python 3",
   "language": "python",
   "name": "python3"
  },
  "language_info": {
   "codemirror_mode": {
    "name": "ipython",
    "version": 3
   },
   "file_extension": ".py",
   "mimetype": "text/x-python",
   "name": "python",
   "nbconvert_exporter": "python",
   "pygments_lexer": "ipython3",
   "version": "3.7.7"
  }
 },
 "nbformat": 4,
 "nbformat_minor": 4
}
